{
  "nbformat": 4,
  "nbformat_minor": 0,
  "metadata": {
    "colab": {
      "provenance": [],
      "authorship_tag": "ABX9TyMmyb00ICb+RThLFBi3le4A"
    },
    "kernelspec": {
      "name": "python3",
      "display_name": "Python 3"
    },
    "language_info": {
      "name": "python"
    }
  },
  "cells": [
    {
      "cell_type": "code",
      "execution_count": null,
      "metadata": {
        "id": "K-wafghag5xB"
      },
      "outputs": [],
      "source": [
        "# Importar las bibliotecas\n",
        "import numpy as np\n",
        "import pandas as pd\n",
        "import matplotlib.pyplot as plt\n",
        "# Definir los productos de Peruvian Veef y sus probabilidades\n",
        "productos = ['Anticucho', 'Hamburguesa Veggie', 'Jamón Vegetal', 'Ensalada', 'Tacos Veganos',\n",
        "'Empanadas']\n",
        "probabilidades = [0.35, 0.25, 0.15, 0.10, 0.10, 0.05] # Ajustar para que sumen 1.0\n",
        "# Simular 500 pedidos\n",
        "np.random.seed(42) # Para reproducibilidad\n",
        "pedidos = np.random.choice(productos, size=500, p=probabilidades)\n",
        "# Convertir los resultados en un DataFrame\n",
        "df_pedidos = pd.DataFrame(pedidos, columns=['Producto'])\n",
        "# Contar la cantidad de pedidos por producto\n",
        "conteo_productos = df_pedidos['Producto'].value_counts()\n",
        "# Calcular el porcentaje acumulado\n",
        "porcentaje_acumulado = conteo_productos.cumsum() / conteo_productos.sum() * 100\n",
        "# Crear el gráfico de Pareto\n",
        "fig, ax1 = plt.subplots()\n",
        "# Cambiar el tamaño de la fuente y el grosor de las barras\n",
        "ax1.bar(conteo_productos.index, conteo_productos, color='C0')\n",
        "ax1.set_xlabel('Producto', fontsize=12) # Cambia el tamaño de la fuente\n",
        "ax1.set_ylabel('Cantidad de Pedidos', color='C0', fontsize=12) # Cambia el tamaño de la\n",
        "fuente\n",
        "plt.xticks(rotation=45, ha='right', fontsize=10) # Rotar y ajustar las etiquetas del eje x\n",
        "# Crear el segundo eje para el porcentaje acumulado\n",
        "ax2 = ax1.twinx()\n",
        "ax2.plot(conteo_productos.index, porcentaje_acumulado, color='C1', marker='D', ms=7,\n",
        "lw=2) # Aumenta el grosor de la línea y el tamaño de los marcadores\n",
        "ax2.set_ylabel('Porcentaje Acumulado', color='C1', fontsize=12) # Cambia el tamaño de la\n",
        "fuente\n",
        "# Líneas de referencia del 80%\n",
        "ax2.axhline(y=80, color='r', linestyle='--', linewidth=2) # Ajustar el grosor de la línea\n",
        "plt.title('Diagrama de Pareto de Pedidos - Peruvian Veef', fontsize=14)\n",
        "plt.tight_layout() # Ajusta los márgenes para que todo se vea correctamente\n",
        "plt.show()\n"
      ]
    }
  ]
}